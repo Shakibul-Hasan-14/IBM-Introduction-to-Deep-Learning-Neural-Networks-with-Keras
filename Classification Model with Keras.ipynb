{
 "cells": [
  {
   "cell_type": "code",
   "execution_count": 1,
   "id": "24ebc4d8",
   "metadata": {},
   "outputs": [],
   "source": [
    "# Import necessary libraries\n",
    "import keras\n",
    "from keras.layers import Dense\n",
    "from keras.models import Sequential\n",
    "from keras.utils import to_categorical\n",
    "from keras.datasets import mnist\n",
    "\n",
    "import matplotlib.pyplot as plt"
   ]
  },
  {
   "cell_type": "code",
   "execution_count": 2,
   "id": "8904b55f",
   "metadata": {},
   "outputs": [],
   "source": [
    "# Read dataset\n",
    "(X_train, y_train), (X_test, y_test) = mnist.load_data()"
   ]
  },
  {
   "cell_type": "code",
   "execution_count": 3,
   "id": "99be4df3",
   "metadata": {},
   "outputs": [
    {
     "data": {
      "text/plain": [
       "(60000, 28, 28)"
      ]
     },
     "execution_count": 3,
     "metadata": {},
     "output_type": "execute_result"
    }
   ],
   "source": [
    "# Number of rows and columns\n",
    "X_train.shape"
   ]
  },
  {
   "cell_type": "code",
   "execution_count": 4,
   "id": "a21b25cf",
   "metadata": {},
   "outputs": [
    {
     "data": {
      "text/plain": [
       "<matplotlib.image.AxesImage at 0x212f91c3910>"
      ]
     },
     "execution_count": 4,
     "metadata": {},
     "output_type": "execute_result"
    },
    {
     "data": {
      "image/png": "[encoded data removed]",
      "text/plain": [
       "<Figure size 640x480 with 1 Axes>"
      ]
     },
     "metadata": {},
     "output_type": "display_data"
    }
   ],
   "source": [
    "# Visualize the first image\n",
    "plt.imshow(X_train[0])"
   ]
  },
  {
   "cell_type": "code",
   "execution_count": 5,
   "id": "54ef70ba",
   "metadata": {},
   "outputs": [],
   "source": [
    "# Flatten images into one-dimensional vector\n",
    "num_pixels = X_train.shape[1] * X_train.shape[2] # Find size of one-dimensional vector\n",
    "\n",
    "X_train = X_train.reshape(X_train.shape[0], num_pixels).astype('float32') # Flatten training images\n",
    "X_test = X_test.reshape(X_test.shape[0], num_pixels).astype('float32') # Flatten test images"
   ]
  },
  {
   "cell_type": "code",
   "execution_count": 6,
   "id": "ef210d6c",
   "metadata": {},
   "outputs": [],
   "source": [
    "# Normalize inputs from 0-255 to 0-1\n",
    "X_train = X_train / 255\n",
    "X_test = X_test / 255"
   ]
  },
  {
   "cell_type": "code",
   "execution_count": 7,
   "id": "2e0d5bc5",
   "metadata": {},
   "outputs": [
    {
     "name": "stdout",
     "output_type": "stream",
     "text": [
      "10\n"
     ]
    }
   ],
   "source": [
    "# One hot encode outputs\n",
    "y_train = to_categorical(y_train)\n",
    "y_test = to_categorical(y_test)\n",
    "\n",
    "num_classes = y_test.shape[1]\n",
    "print(num_classes)"
   ]
  },
  {
   "cell_type": "markdown",
   "id": "28fa7f7d",
   "metadata": {},
   "source": [
    "# Build Neural Network"
   ]
  },
  {
   "cell_type": "code",
   "execution_count": 8,
   "id": "ebd87c85",
   "metadata": {},
   "outputs": [],
   "source": [
    "# Define classification model\n",
    "def classification_model():\n",
    "    # Create model\n",
    "    model = Sequential()\n",
    "    model.add(Dense(num_pixels, activation='relu', input_shape=(num_pixels, )))\n",
    "    model.add(Dense(100, activation='relu'))\n",
    "    model.add(Dense(num_classes, activation='softmax'))\n",
    "    \n",
    "    # Compile model\n",
    "    model.compile(optimizer='adam', loss='categorical_crossentropy', metrics=['accuracy'])\n",
    "    return model"
   ]
  },
  {
   "cell_type": "markdown",
   "id": "56192295",
   "metadata": {},
   "source": [
    "# Train and Test the Network"
   ]
  },
  {
   "cell_type": "code",
   "execution_count": 9,
   "id": "66173ad9",
   "metadata": {},
   "outputs": [
    {
     "name": "stdout",
     "output_type": "stream",
     "text": [
      "Epoch 1/10\n",
      "1875/1875 - 8s - loss: 0.1861 - accuracy: 0.9438 - val_loss: 0.1074 - val_accuracy: 0.9678\n",
      "Epoch 2/10\n",
      "1875/1875 - 5s - loss: 0.0789 - accuracy: 0.9756 - val_loss: 0.0751 - val_accuracy: 0.9784\n",
      "Epoch 3/10\n",
      "1875/1875 - 5s - loss: 0.0545 - accuracy: 0.9827 - val_loss: 0.0694 - val_accuracy: 0.9798\n",
      "Epoch 4/10\n",
      "1875/1875 - 5s - loss: 0.0408 - accuracy: 0.9867 - val_loss: 0.0768 - val_accuracy: 0.9776\n",
      "Epoch 5/10\n",
      "1875/1875 - 5s - loss: 0.0323 - accuracy: 0.9893 - val_loss: 0.0787 - val_accuracy: 0.9790\n",
      "Epoch 6/10\n",
      "1875/1875 - 5s - loss: 0.0261 - accuracy: 0.9912 - val_loss: 0.0885 - val_accuracy: 0.9763\n",
      "Epoch 7/10\n",
      "1875/1875 - 6s - loss: 0.0219 - accuracy: 0.9931 - val_loss: 0.0985 - val_accuracy: 0.9763\n",
      "Epoch 8/10\n",
      "1875/1875 - 6s - loss: 0.0210 - accuracy: 0.9936 - val_loss: 0.0962 - val_accuracy: 0.9794\n",
      "Epoch 9/10\n",
      "1875/1875 - 6s - loss: 0.0182 - accuracy: 0.9941 - val_loss: 0.0993 - val_accuracy: 0.9787\n",
      "Epoch 10/10\n",
      "1875/1875 - 6s - loss: 0.0156 - accuracy: 0.9949 - val_loss: 0.1239 - val_accuracy: 0.9747\n"
     ]
    }
   ],
   "source": [
    "# Build the model\n",
    "model = classification_model()\n",
    "\n",
    "# Fit the model\n",
    "model.fit(X_train, y_train, validation_data=(X_test, y_test), epochs=10, verbose=2)\n",
    "\n",
    "# Evaluate the model\n",
    "scores = model.evaluate(X_test, y_test, verbose=0)"
   ]
  },
  {
   "cell_type": "code",
   "execution_count": 10,
   "id": "bcac96c2",
   "metadata": {},
   "outputs": [
    {
     "name": "stdout",
     "output_type": "stream",
     "text": [
      "Accuracy: 0.9746999740600586% \n",
      " Error: 0.025300025939941406\n"
     ]
    }
   ],
   "source": [
    "# Print accuracy\n",
    "print('Accuracy: {}% \\n Error: {}'.format(scores[1], 1 - scores[1]))        "
   ]
  },
  {
   "cell_type": "code",
   "execution_count": 11,
   "id": "b479162c",
   "metadata": {},
   "outputs": [],
   "source": [
    "# Save model after training to avoid retraining\n",
    "model.save('classification_model.h5')"
   ]
  },
  {
   "cell_type": "code",
   "execution_count": 12,
   "id": "f88688e8",
   "metadata": {},
   "outputs": [],
   "source": [
    "# Load saved model\n",
    "from keras.models import load_model\n",
    "pretrained_model = load_model('classification_model.h5')"
   ]
  }
 ],
 "metadata": {
  "kernelspec": {
   "display_name": "cvpr tf2.4 py3.8",
   "language": "python",
   "name": "cvpr"
  },
  "language_info": {
   "codemirror_mode": {
    "name": "ipython",
    "version": 3
   },
   "file_extension": ".py",
   "mimetype": "text/x-python",
   "name": "python",
   "nbconvert_exporter": "python",
   "pygments_lexer": "ipython3",
   "version": "3.8.15"
  }
 },
 "nbformat": 4,
 "nbformat_minor": 5
}
