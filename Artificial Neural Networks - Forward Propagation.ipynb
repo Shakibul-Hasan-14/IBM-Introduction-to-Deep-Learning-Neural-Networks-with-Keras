{
 "cells": [
  {
   "cell_type": "markdown",
   "id": "3e4f562b",
   "metadata": {},
   "source": [
    "<img src=\"http://cocl.us/neural_network_example\" alt=\"Neural Network Example\" width=\"600px\">"
   ]
  },
  {
   "cell_type": "code",
   "execution_count": 1,
   "id": "6a6bed5d",
   "metadata": {},
   "outputs": [],
   "source": [
    "# Import necessary libraries\n",
    "import numpy as np\n",
    "from random import seed"
   ]
  },
  {
   "cell_type": "code",
   "execution_count": 2,
   "id": "14fda4ff",
   "metadata": {},
   "outputs": [
    {
     "name": "stdout",
     "output_type": "stream",
     "text": [
      "[0.56 0.92 0.2  0.21 0.54 0.58]\n",
      "[0.11 0.95 0.11]\n"
     ]
    }
   ],
   "source": [
    "# Initialize weights and biases\n",
    "weights = np.around(np.random.uniform(size=6), decimals=2)\n",
    "biases = np.around(np.random.uniform(size=3), decimals=2)\n",
    "\n",
    "print(weights)\n",
    "print(biases)"
   ]
  },
  {
   "cell_type": "code",
   "execution_count": 3,
   "id": "d208ff50",
   "metadata": {},
   "outputs": [
    {
     "name": "stdout",
     "output_type": "stream",
     "text": [
      "x1 is 0.5 and x2 is 0.85\n"
     ]
    }
   ],
   "source": [
    "# Initialize inputs\n",
    "x1 = 0.5\n",
    "x2 = 0.85\n",
    "\n",
    "print('x1 is {} and x2 is {}'.format(x1, x2))"
   ]
  },
  {
   "cell_type": "code",
   "execution_count": 4,
   "id": "8e8f6abc",
   "metadata": {},
   "outputs": [
    {
     "name": "stdout",
     "output_type": "stream",
     "text": [
      "The weighted sum of the inputs at the first node in the hidden layer is 1.1720000000000002\n"
     ]
    }
   ],
   "source": [
    "# Calculate z11\n",
    "z11 = x1 * weights[0] + x2 * weights[1] + biases[0]\n",
    "\n",
    "print('The weighted sum of the inputs at the first node in the hidden layer is {}'.format(z11))"
   ]
  },
  {
   "cell_type": "code",
   "execution_count": 5,
   "id": "d2082b7a",
   "metadata": {},
   "outputs": [
    {
     "name": "stdout",
     "output_type": "stream",
     "text": [
      "The weighted sum of the inputs at the second node in the hidden layer is 1.2285\n"
     ]
    }
   ],
   "source": [
    "# Calculate z12\n",
    "z12 = x1 * weights[2] + x2 * weights[3] + biases[1]\n",
    "\n",
    "print('The weighted sum of the inputs at the second node in the hidden layer is {}'.format(np.around(z12, decimals=4)))"
   ]
  },
  {
   "cell_type": "code",
   "execution_count": 6,
   "id": "eb83e78f",
   "metadata": {},
   "outputs": [
    {
     "name": "stdout",
     "output_type": "stream",
     "text": [
      "The activation of the first node in the hidden layer is 0.7635\n"
     ]
    }
   ],
   "source": [
    "# Activation of z11\n",
    "a11 = 1.0 / (1.0 + np.exp(-z11))\n",
    "\n",
    "print('The activation of the first node in the hidden layer is {}'.format(np.around(a11, decimals=4)))"
   ]
  },
  {
   "cell_type": "code",
   "execution_count": 7,
   "id": "43b929e4",
   "metadata": {},
   "outputs": [
    {
     "name": "stdout",
     "output_type": "stream",
     "text": [
      "The activation of the second node in the hidden layer is 0.7736\n"
     ]
    }
   ],
   "source": [
    "# Activation of z12\n",
    "a12 = 1.0 / (1.0 + np.exp(-z12))\n",
    "\n",
    "print('The activation of the second node in the hidden layer is {}'.format(np.around(a12, decimals=4)))"
   ]
  },
  {
   "cell_type": "code",
   "execution_count": 8,
   "id": "c230fff2",
   "metadata": {},
   "outputs": [
    {
     "name": "stdout",
     "output_type": "stream",
     "text": [
      "The weighted sum of the inputs at the node in the output layer is 0.971\n"
     ]
    }
   ],
   "source": [
    "# Calculate z2\n",
    "z2 = a11 * weights[4] + a12 * weights[5] + biases[2]\n",
    "\n",
    "print('The weighted sum of the inputs at the node in the output layer is {}'.format(np.around(z2, decimals=4)))"
   ]
  },
  {
   "cell_type": "code",
   "execution_count": 9,
   "id": "a05fcf27",
   "metadata": {},
   "outputs": [
    {
     "name": "stdout",
     "output_type": "stream",
     "text": [
      "The output of the network for x1 = 0.5 and x2 = 0.85 is 0.7253\n"
     ]
    }
   ],
   "source": [
    "# Activation of z2\n",
    "a2 = 1.0 / (1.0 + np.exp(-z2))\n",
    "\n",
    "print('The output of the network for x1 = 0.5 and x2 = 0.85 is {}'.format(np.around(a2, decimals=4)))"
   ]
  },
  {
   "cell_type": "markdown",
   "id": "89e5e7f1",
   "metadata": {},
   "source": [
    "**This calculation strategy is very inefficient.**"
   ]
  },
  {
   "cell_type": "markdown",
   "id": "05318232",
   "metadata": {},
   "source": [
    "<img src=\"http://cocl.us/general_neural_network\" alt=\"Neural Network General\" width=\"600px\">"
   ]
  },
  {
   "cell_type": "code",
   "execution_count": 10,
   "id": "28d34726",
   "metadata": {},
   "outputs": [],
   "source": [
    "# Initialize a network\n",
    "n = 2                     # Number of inputs\n",
    "num_hidden_layers = 2     # Number of hidden layers\n",
    "m = [2, 2]                # Number of nodes in each hidden layer\n",
    "num_nodes_output = 1      # Number of nodes in the output layer"
   ]
  },
  {
   "cell_type": "code",
   "execution_count": 11,
   "id": "fad06e6a",
   "metadata": {},
   "outputs": [],
   "source": [
    "# Neural network function\n",
    "def initialize_network(num_inputs, num_hidden_layers, num_nodes_hidden, num_nodes_output):\n",
    "    \n",
    "    num_nodes_previous = num_inputs # Number of nodes in the previous layer\n",
    "\n",
    "    network = {}\n",
    "    \n",
    "    # Loop through each layer and randomly initialize the weights and biases associated with each layer\n",
    "    for layer in range(num_hidden_layers + 1):\n",
    "        \n",
    "        if layer == num_hidden_layers:\n",
    "            layer_name = 'output' # Name last layer in the network output\n",
    "            num_nodes = num_nodes_output\n",
    "        else:\n",
    "            layer_name = 'layer_{}'.format(layer + 1) # Otherwise give the layer a number\n",
    "            num_nodes = num_nodes_hidden[layer] \n",
    "        \n",
    "        # Initialize weights and bias for each node\n",
    "        network[layer_name] = {}\n",
    "        for node in range(num_nodes):\n",
    "            node_name = 'node_{}'.format(node + 1)\n",
    "            network[layer_name][node_name] = {\n",
    "                'weights': np.around(np.random.uniform(size=num_nodes_previous), decimals=2),\n",
    "                'bias': np.around(np.random.uniform(size=1), decimals=2),\n",
    "            }\n",
    "    \n",
    "        num_nodes_previous = num_nodes\n",
    "\n",
    "    return network # Return the network"
   ]
  },
  {
   "cell_type": "code",
   "execution_count": 12,
   "id": "8c287613",
   "metadata": {},
   "outputs": [],
   "source": [
    "# Call the neural network function\n",
    "small_network = initialize_network(5, 3, [3, 2, 3], 1)"
   ]
  },
  {
   "cell_type": "code",
   "execution_count": 13,
   "id": "5cb28121",
   "metadata": {},
   "outputs": [],
   "source": [
    "# Function to compute weighted sum at each node\n",
    "def compute_weighted_sum(inputs, weights, bias):\n",
    "    return np.sum(inputs * weights) + bias"
   ]
  },
  {
   "cell_type": "code",
   "execution_count": 14,
   "id": "609f016c",
   "metadata": {},
   "outputs": [
    {
     "name": "stdout",
     "output_type": "stream",
     "text": [
      "The inputs to the network are [0.15 0.74 0.26 0.53 0.01]\n"
     ]
    }
   ],
   "source": [
    "# Generate 5 inputs\n",
    "np.random.seed(12)\n",
    "inputs = np.around(np.random.uniform(size=5), decimals=2)\n",
    "\n",
    "print('The inputs to the network are {}'.format(inputs))"
   ]
  },
  {
   "cell_type": "code",
   "execution_count": 15,
   "id": "94fee7e2",
   "metadata": {},
   "outputs": [
    {
     "name": "stdout",
     "output_type": "stream",
     "text": [
      "The weighted sum at the first node in the hidden layer is 1.8538\n"
     ]
    }
   ],
   "source": [
    "# Use the compute_weighted_sum function to compute the weighted sum at the first node in the first hidden layer.\n",
    "node_weights = small_network['layer_1']['node_1']['weights']\n",
    "node_bias = small_network['layer_1']['node_1']['bias']\n",
    "\n",
    "weighted_sum = compute_weighted_sum(inputs, node_weights, node_bias)\n",
    "print('The weighted sum at the first node in the hidden layer is {}'.format(np.around(weighted_sum[0], decimals=4)))"
   ]
  },
  {
   "cell_type": "code",
   "execution_count": 16,
   "id": "2ebb0b3d",
   "metadata": {},
   "outputs": [],
   "source": [
    "# Function to compute node activation\n",
    "def node_activation(weighted_sum):\n",
    "    return 1.0 / (1.0 + np.exp(-1 * weighted_sum))"
   ]
  },
  {
   "cell_type": "code",
   "execution_count": 17,
   "id": "a142f314",
   "metadata": {},
   "outputs": [
    {
     "name": "stdout",
     "output_type": "stream",
     "text": [
      "The output of the first node in the hidden layer is 0.8646\n"
     ]
    }
   ],
   "source": [
    "# Use the node_activation function to compute the output of the first node in the first hidden layer.\n",
    "node_output  = node_activation(compute_weighted_sum(inputs, node_weights, node_bias))\n",
    "print('The output of the first node in the hidden layer is {}'.format(np.around(node_output[0], decimals=4)))"
   ]
  },
  {
   "cell_type": "code",
   "execution_count": 18,
   "id": "d105f1c8",
   "metadata": {},
   "outputs": [],
   "source": [
    "# Forward propagation function\n",
    "def forward_propagate(network, inputs):\n",
    "    \n",
    "    layer_inputs = list(inputs) # Start with the input layer as the input to the first hidden layer\n",
    "    \n",
    "    for layer in network:\n",
    "        \n",
    "        layer_data = network[layer]\n",
    "        \n",
    "        layer_outputs = [] \n",
    "        for layer_node in layer_data:\n",
    "        \n",
    "            node_data = layer_data[layer_node]\n",
    "        \n",
    "            # Compute the weighted sum and the output of each node at the same time \n",
    "            node_output = node_activation(compute_weighted_sum(layer_inputs, node_data['weights'], node_data['bias']))\n",
    "            layer_outputs.append(np.around(node_output[0], decimals=4))\n",
    "            \n",
    "        if layer != 'output':\n",
    "            print('The outputs of the nodes in hidden layer number {} is {}'.format(layer.split('_')[1], layer_outputs))\n",
    "    \n",
    "        layer_inputs = layer_outputs # Set the output of this layer to be the input to next layer\n",
    "\n",
    "    network_predictions = layer_outputs\n",
    "    return network_predictions"
   ]
  },
  {
   "cell_type": "code",
   "execution_count": 19,
   "id": "98cb6058",
   "metadata": {},
   "outputs": [
    {
     "name": "stdout",
     "output_type": "stream",
     "text": [
      "The outputs of the nodes in hidden layer number 1 is [0.8646, 0.826, 0.7067]\n",
      "The outputs of the nodes in hidden layer number 2 is [0.7482, 0.931]\n",
      "The outputs of the nodes in hidden layer number 3 is [0.8266, 0.7685, 0.7545]\n",
      "The predicted value by the network for the given input is 0.85\n"
     ]
    }
   ],
   "source": [
    "# Use the forward_propagate function to compute the prediction of the small network\n",
    "predictions = forward_propagate(small_network, inputs)\n",
    "print('The predicted value by the network for the given input is {}'.format(np.around(predictions[0], decimals=4)))"
   ]
  }
 ],
 "metadata": {
  "kernelspec": {
   "display_name": "cvpr tf2.4 py3.8",
   "language": "python",
   "name": "cvpr"
  },
  "language_info": {
   "codemirror_mode": {
    "name": "ipython",
    "version": 3
   },
   "file_extension": ".py",
   "mimetype": "text/x-python",
   "name": "python",
   "nbconvert_exporter": "python",
   "pygments_lexer": "ipython3",
   "version": "3.8.15"
  }
 },
 "nbformat": 4,
 "nbformat_minor": 5
}
