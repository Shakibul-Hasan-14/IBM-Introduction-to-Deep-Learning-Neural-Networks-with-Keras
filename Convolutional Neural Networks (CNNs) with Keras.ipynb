{
 "cells": [
  {
   "cell_type": "code",
   "execution_count": 1,
   "id": "ae821ffb",
   "metadata": {},
   "outputs": [],
   "source": [
    "# Import necessary libraries\n",
    "import keras\n",
    "from keras.datasets import mnist\n",
    "from keras.models import Sequential\n",
    "from keras.utils import to_categorical\n",
    "from keras.layers import Dense, Flatten\n",
    "from keras.layers.convolutional import Conv2D, MaxPooling2D"
   ]
  },
  {
   "cell_type": "markdown",
   "id": "d88e810c",
   "metadata": {},
   "source": [
    "# Convolutional Layer with One Set of Convolutional and Pooling Layers"
   ]
  },
  {
   "cell_type": "code",
   "execution_count": 2,
   "id": "692baad3",
   "metadata": {},
   "outputs": [],
   "source": [
    "# load data\n",
    "(X_train, y_train), (X_test, y_test) = mnist.load_data()\n",
    "\n",
    "# Reshape to be [samples][pixels][width][height]\n",
    "X_train = X_train.reshape(X_train.shape[0], 28, 28, 1).astype('float32')\n",
    "X_test = X_test.reshape(X_test.shape[0], 28, 28, 1).astype('float32')"
   ]
  },
  {
   "cell_type": "code",
   "execution_count": 3,
   "id": "c0003df5",
   "metadata": {},
   "outputs": [],
   "source": [
    "X_train = X_train / 255 # Normalize training data\n",
    "X_test = X_test / 255 # Normalize test data"
   ]
  },
  {
   "cell_type": "code",
   "execution_count": 4,
   "id": "2b1821b2",
   "metadata": {},
   "outputs": [],
   "source": [
    "y_train = to_categorical(y_train)\n",
    "y_test = to_categorical(y_test)\n",
    "\n",
    "num_classes = y_test.shape[1] # Number of categories"
   ]
  },
  {
   "cell_type": "code",
   "execution_count": 5,
   "id": "10515858",
   "metadata": {},
   "outputs": [],
   "source": [
    "def convolutional_model():\n",
    "    # Create model\n",
    "    model = Sequential()\n",
    "    model.add(Conv2D(16, (5, 5), strides=(1, 1), activation='relu', input_shape=(28, 28, 1)))\n",
    "    model.add(MaxPooling2D(pool_size=(2, 2), strides=(2, 2)))\n",
    "    \n",
    "    model.add(Flatten())\n",
    "    model.add(Dense(100, activation='relu'))\n",
    "    model.add(Dense(num_classes, activation='softmax'))\n",
    "    \n",
    "    # Compile model\n",
    "    model.compile(optimizer='adam', loss='categorical_crossentropy',  metrics=['accuracy'])\n",
    "    return model"
   ]
  },
  {
   "cell_type": "code",
   "execution_count": 6,
   "id": "5d67521d",
   "metadata": {},
   "outputs": [
    {
     "name": "stdout",
     "output_type": "stream",
     "text": [
      "Epoch 1/10\n",
      "300/300 - 7s - loss: 0.2908 - accuracy: 0.9187 - val_loss: 0.1024 - val_accuracy: 0.9676\n",
      "Epoch 2/10\n",
      "300/300 - 1s - loss: 0.0917 - accuracy: 0.9736 - val_loss: 0.0657 - val_accuracy: 0.9798\n",
      "Epoch 3/10\n",
      "300/300 - 1s - loss: 0.0650 - accuracy: 0.9811 - val_loss: 0.0523 - val_accuracy: 0.9832\n",
      "Epoch 4/10\n",
      "300/300 - 1s - loss: 0.0496 - accuracy: 0.9855 - val_loss: 0.0488 - val_accuracy: 0.9827\n",
      "Epoch 5/10\n",
      "300/300 - 0s - loss: 0.0411 - accuracy: 0.9874 - val_loss: 0.0468 - val_accuracy: 0.9836\n",
      "Epoch 6/10\n",
      "300/300 - 0s - loss: 0.0335 - accuracy: 0.9900 - val_loss: 0.0373 - val_accuracy: 0.9871\n",
      "Epoch 7/10\n",
      "300/300 - 0s - loss: 0.0274 - accuracy: 0.9917 - val_loss: 0.0400 - val_accuracy: 0.9864\n",
      "Epoch 8/10\n",
      "300/300 - 0s - loss: 0.0235 - accuracy: 0.9929 - val_loss: 0.0388 - val_accuracy: 0.9866\n",
      "Epoch 9/10\n",
      "300/300 - 0s - loss: 0.0196 - accuracy: 0.9941 - val_loss: 0.0362 - val_accuracy: 0.9873\n",
      "Epoch 10/10\n",
      "300/300 - 0s - loss: 0.0173 - accuracy: 0.9949 - val_loss: 0.0380 - val_accuracy: 0.9875\n",
      "Accuracy: 0.987500011920929 \n",
      " Error: 1.2499988079071045\n"
     ]
    }
   ],
   "source": [
    "# Build the model\n",
    "model = convolutional_model()\n",
    "\n",
    "# Fit the model\n",
    "model.fit(X_train, y_train, validation_data=(X_test, y_test), epochs=10, batch_size=200, verbose=2)\n",
    "\n",
    "# Evaluate the model\n",
    "scores = model.evaluate(X_test, y_test, verbose=0)\n",
    "print(\"Accuracy: {} \\n Error: {}\".format(scores[1], 100-scores[1]*100))"
   ]
  },
  {
   "cell_type": "markdown",
   "id": "05a9d8cf",
   "metadata": {},
   "source": [
    "# Convolutional Layer with Two Sets of Convolutional and Pooling Layers"
   ]
  },
  {
   "cell_type": "code",
   "execution_count": 7,
   "id": "044575bd",
   "metadata": {},
   "outputs": [],
   "source": [
    "def convolutional_model():\n",
    "    # Create model\n",
    "    model = Sequential()\n",
    "    model.add(Conv2D(16, (5, 5), activation='relu', input_shape=(28, 28, 1)))\n",
    "    model.add(MaxPooling2D(pool_size=(2, 2), strides=(2, 2)))\n",
    "    \n",
    "    model.add(Conv2D(8, (2, 2), activation='relu'))\n",
    "    model.add(MaxPooling2D(pool_size=(2, 2), strides=(2, 2)))\n",
    "    \n",
    "    model.add(Flatten())\n",
    "    model.add(Dense(100, activation='relu'))\n",
    "    model.add(Dense(num_classes, activation='softmax'))\n",
    "    \n",
    "    # Compile model\n",
    "    model.compile(optimizer='adam', loss='categorical_crossentropy',  metrics=['accuracy'])\n",
    "    return model"
   ]
  },
  {
   "cell_type": "code",
   "execution_count": 8,
   "id": "fbc271c4",
   "metadata": {},
   "outputs": [
    {
     "name": "stdout",
     "output_type": "stream",
     "text": [
      "Epoch 1/10\n",
      "300/300 - 1s - loss: 0.5083 - accuracy: 0.8501 - val_loss: 0.1274 - val_accuracy: 0.9624\n",
      "Epoch 2/10\n",
      "300/300 - 0s - loss: 0.1181 - accuracy: 0.9644 - val_loss: 0.0820 - val_accuracy: 0.9754\n",
      "Epoch 3/10\n",
      "300/300 - 0s - loss: 0.0844 - accuracy: 0.9738 - val_loss: 0.0646 - val_accuracy: 0.9793\n",
      "Epoch 4/10\n",
      "300/300 - 0s - loss: 0.0691 - accuracy: 0.9789 - val_loss: 0.0581 - val_accuracy: 0.9820\n",
      "Epoch 5/10\n",
      "300/300 - 0s - loss: 0.0581 - accuracy: 0.9822 - val_loss: 0.0519 - val_accuracy: 0.9838\n",
      "Epoch 6/10\n",
      "300/300 - 0s - loss: 0.0512 - accuracy: 0.9840 - val_loss: 0.0555 - val_accuracy: 0.9816\n",
      "Epoch 7/10\n",
      "300/300 - 0s - loss: 0.0462 - accuracy: 0.9853 - val_loss: 0.0512 - val_accuracy: 0.9835\n",
      "Epoch 8/10\n",
      "300/300 - 0s - loss: 0.0413 - accuracy: 0.9869 - val_loss: 0.0466 - val_accuracy: 0.9847\n",
      "Epoch 9/10\n",
      "300/300 - 0s - loss: 0.0376 - accuracy: 0.9880 - val_loss: 0.0419 - val_accuracy: 0.9860\n",
      "Epoch 10/10\n",
      "300/300 - 0s - loss: 0.0331 - accuracy: 0.9898 - val_loss: 0.0365 - val_accuracy: 0.9884\n",
      "Accuracy: 0.9883999824523926 \n",
      " Error: 1.1600017547607422\n"
     ]
    }
   ],
   "source": [
    "# Build the model\n",
    "model = convolutional_model()\n",
    "\n",
    "# Fit the model\n",
    "model.fit(X_train, y_train, validation_data=(X_test, y_test), epochs=10, batch_size=200, verbose=2)\n",
    "\n",
    "# Evaluate the model\n",
    "scores = model.evaluate(X_test, y_test, verbose=0)\n",
    "print(\"Accuracy: {} \\n Error: {}\".format(scores[1], 100-scores[1]*100))"
   ]
  }
 ],
 "metadata": {
  "kernelspec": {
   "display_name": "cvpr tf2.4 py3.8",
   "language": "python",
   "name": "cvpr"
  },
  "language_info": {
   "codemirror_mode": {
    "name": "ipython",
    "version": 3
   },
   "file_extension": ".py",
   "mimetype": "text/x-python",
   "name": "python",
   "nbconvert_exporter": "python",
   "pygments_lexer": "ipython3",
   "version": "3.8.15"
  }
 },
 "nbformat": 4,
 "nbformat_minor": 5
}
